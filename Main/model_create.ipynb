{
 "cells": [
  {
   "cell_type": "code",
   "execution_count": 1,
   "metadata": {
    "collapsed": true
   },
   "outputs": [],
   "source": [
    "import numpy as np\n",
    "max_pad_len = 174\n",
    "\n",
    "def extract_features(file_name):\n",
    "\n",
    "    try:\n",
    "        audio, sample_rate = librosa.load(file_name)\n",
    "        mfccs = librosa.feature.mfcc(y=audio, sr=sample_rate, n_mfcc=40)\n",
    "        pad_width = max_pad_len - mfccs.shape[1]\n",
    "        mfccs = np.pad(mfccs, pad_width=((0, 0), (0, pad_width)), mode='constant')\n",
    "\n",
    "    except Exception as e:\n",
    "        print(\"Error encountered while parsing file: \", file_name)\n",
    "        return None\n",
    "\n",
    "    return mfccs"
   ]
  },
  {
   "cell_type": "code",
   "execution_count": 2,
   "outputs": [
    {
     "name": "stdout",
     "output_type": "stream",
     "text": [
      "Finished feature extraction from  4374  files\n"
     ]
    }
   ],
   "source": [
    "# Load various imports\n",
    "import pandas as pd\n",
    "import os\n",
    "import librosa\n",
    "\n",
    "# Set the path to the full UrbanSound dataset\n",
    "fulldatasetpath = './dataset_forest/audio/'\n",
    "\n",
    "metadata = pd.read_csv('./dataset_forest/metadata/dataset_forest.csv')\n",
    "\n",
    "features = []\n",
    "\n",
    "# Iterate through each sound file and extract the features\n",
    "for index, row in metadata.iterrows():\n",
    "\n",
    "    file_name = os.path.join(os.path.abspath(fulldatasetpath),'fold'+str(row[\"fold\"])+'/',str(row[\"slice_file_name\"]))\n",
    "\n",
    "    class_label = row[\"class\"]\n",
    "    data = extract_features(file_name)\n",
    "\n",
    "    features.append([data, class_label])\n",
    "\n",
    "# Convert into a Panda dataframe\n",
    "featuresdf = pd.DataFrame(features, columns=['feature','class_label'])\n",
    "\n",
    "print('Finished feature extraction from ', len(featuresdf), ' files')"
   ],
   "metadata": {
    "collapsed": false,
    "pycharm": {
     "name": "#%%\n"
    }
   }
  },
  {
   "cell_type": "code",
   "execution_count": 3,
   "outputs": [],
   "source": [
    "from sklearn.preprocessing import LabelEncoder\n",
    "from tensorflow.keras.utils import to_categorical\n",
    "\n",
    "# Convert features and corresponding classification labels into numpy arrays\n",
    "X = np.array(featuresdf.feature.tolist())\n",
    "y = np.array(featuresdf.class_label.tolist())\n",
    "\n",
    "# Encode the classification labels\n",
    "le = LabelEncoder()\n",
    "yy = to_categorical(le.fit_transform(y))\n",
    "\n",
    "# split the dataset\n",
    "from sklearn.model_selection import train_test_split\n",
    "\n",
    "x_train, x_test, y_train, y_test = train_test_split(X, yy, test_size=0.2, random_state = 42)"
   ],
   "metadata": {
    "collapsed": false,
    "pycharm": {
     "name": "#%%\n"
    }
   }
  },
  {
   "cell_type": "code",
   "execution_count": 4,
   "outputs": [
    {
     "name": "stderr",
     "output_type": "stream",
     "text": [
      "Using TensorFlow backend.\n"
     ]
    }
   ],
   "source": [
    "import numpy as np\n",
    "from tensorflow.keras.models import Sequential\n",
    "from tensorflow.keras.layers import Dense, Dropout, Activation, Flatten\n",
    "from tensorflow.keras.layers import Convolution2D, Conv2D, MaxPooling2D, GlobalAveragePooling2D\n",
    "from tensorflow.keras.optimizers import Adam\n",
    "from keras.utils import np_utils\n",
    "from sklearn import metrics\n",
    "\n",
    "num_rows = 40\n",
    "num_columns = 174\n",
    "num_channels = 1\n",
    "\n",
    "x_train = x_train.reshape(x_train.shape[0], num_rows, num_columns, num_channels)\n",
    "x_test = x_test.reshape(x_test.shape[0], num_rows, num_columns, num_channels)\n",
    "\n",
    "num_labels = yy.shape[1]\n",
    "filter_size = 2\n",
    "\n",
    "# Construct model\n",
    "model = Sequential()\n",
    "model.add(Conv2D(filters=16, kernel_size=2, input_shape=(num_rows, num_columns, num_channels), activation='relu'))\n",
    "model.add(MaxPooling2D(pool_size=2))\n",
    "model.add(Dropout(0.2))\n",
    "\n",
    "model.add(Conv2D(filters=32, kernel_size=2, activation='relu'))\n",
    "model.add(MaxPooling2D(pool_size=2))\n",
    "model.add(Dropout(0.2))\n",
    "\n",
    "model.add(Conv2D(filters=64, kernel_size=2, activation='relu'))\n",
    "model.add(MaxPooling2D(pool_size=2))\n",
    "model.add(Dropout(0.2))\n",
    "\n",
    "model.add(Conv2D(filters=128, kernel_size=2, activation='relu'))\n",
    "model.add(MaxPooling2D(pool_size=2))\n",
    "model.add(Dropout(0.2))\n",
    "model.add(GlobalAveragePooling2D())\n",
    "\n",
    "model.add(Dense(num_labels, activation='softmax'))"
   ],
   "metadata": {
    "collapsed": false,
    "pycharm": {
     "name": "#%%\n"
    }
   }
  },
  {
   "cell_type": "code",
   "execution_count": 5,
   "outputs": [],
   "source": [
    "# Compile the model\n",
    "model.compile(loss='categorical_crossentropy', metrics=['accuracy'], optimizer='adam')"
   ],
   "metadata": {
    "collapsed": false,
    "pycharm": {
     "name": "#%%\n"
    }
   }
  },
  {
   "cell_type": "code",
   "execution_count": 6,
   "outputs": [
    {
     "name": "stdout",
     "output_type": "stream",
     "text": [
      "Model: \"sequential\"\n",
      "_________________________________________________________________\n",
      "Layer (type)                 Output Shape              Param #   \n",
      "=================================================================\n",
      "conv2d (Conv2D)              (None, 39, 173, 16)       80        \n",
      "_________________________________________________________________\n",
      "max_pooling2d (MaxPooling2D) (None, 19, 86, 16)        0         \n",
      "_________________________________________________________________\n",
      "dropout (Dropout)            (None, 19, 86, 16)        0         \n",
      "_________________________________________________________________\n",
      "conv2d_1 (Conv2D)            (None, 18, 85, 32)        2080      \n",
      "_________________________________________________________________\n",
      "max_pooling2d_1 (MaxPooling2 (None, 9, 42, 32)         0         \n",
      "_________________________________________________________________\n",
      "dropout_1 (Dropout)          (None, 9, 42, 32)         0         \n",
      "_________________________________________________________________\n",
      "conv2d_2 (Conv2D)            (None, 8, 41, 64)         8256      \n",
      "_________________________________________________________________\n",
      "max_pooling2d_2 (MaxPooling2 (None, 4, 20, 64)         0         \n",
      "_________________________________________________________________\n",
      "dropout_2 (Dropout)          (None, 4, 20, 64)         0         \n",
      "_________________________________________________________________\n",
      "conv2d_3 (Conv2D)            (None, 3, 19, 128)        32896     \n",
      "_________________________________________________________________\n",
      "max_pooling2d_3 (MaxPooling2 (None, 1, 9, 128)         0         \n",
      "_________________________________________________________________\n",
      "dropout_3 (Dropout)          (None, 1, 9, 128)         0         \n",
      "_________________________________________________________________\n",
      "global_average_pooling2d (Gl (None, 128)               0         \n",
      "_________________________________________________________________\n",
      "dense (Dense)                (None, 5)                 645       \n",
      "=================================================================\n",
      "Total params: 43,957\n",
      "Trainable params: 43,957\n",
      "Non-trainable params: 0\n",
      "_________________________________________________________________\n",
      "28/28 [==============================] - 1s 48ms/step - loss: 3.3097 - accuracy: 0.1440\n",
      "Pre-training accuracy: 14.4000%\n"
     ]
    }
   ],
   "source": [
    "# Display model architecture summary\n",
    "model.summary()\n",
    "\n",
    "# Calculate pre-training accuracy\n",
    "score = model.evaluate(x_test, y_test, verbose=1)\n",
    "accuracy = 100*score[1]\n",
    "\n",
    "print(\"Pre-training accuracy: %.4f%%\" % accuracy)"
   ],
   "metadata": {
    "collapsed": false,
    "pycharm": {
     "name": "#%%\n"
    }
   }
  },
  {
   "cell_type": "code",
   "execution_count": 7,
   "outputs": [
    {
     "name": "stdout",
     "output_type": "stream",
     "text": [
      "Epoch 1/72\n",
      "14/14 [==============================] - ETA: 0s - loss: 2.6468 - accuracy: 0.3264\n",
      "Epoch 00001: val_loss improved from inf to 1.35064, saving model to saved_models\\weights.best.basic_cnn.hdf5\n",
      "14/14 [==============================] - 18s 1s/step - loss: 2.6468 - accuracy: 0.3264 - val_loss: 1.3506 - val_accuracy: 0.4606\n",
      "Epoch 2/72\n",
      "14/14 [==============================] - ETA: 0s - loss: 1.3410 - accuracy: 0.4673\n",
      "Epoch 00002: val_loss improved from 1.35064 to 1.23963, saving model to saved_models\\weights.best.basic_cnn.hdf5\n",
      "14/14 [==============================] - 19s 1s/step - loss: 1.3410 - accuracy: 0.4673 - val_loss: 1.2396 - val_accuracy: 0.4937\n",
      "Epoch 3/72\n",
      "14/14 [==============================] - ETA: 0s - loss: 1.1470 - accuracy: 0.5304\n",
      "Epoch 00003: val_loss improved from 1.23963 to 1.21820, saving model to saved_models\\weights.best.basic_cnn.hdf5\n",
      "14/14 [==============================] - 16s 1s/step - loss: 1.1470 - accuracy: 0.5304 - val_loss: 1.2182 - val_accuracy: 0.4914\n",
      "Epoch 4/72\n",
      "14/14 [==============================] - ETA: 0s - loss: 1.0646 - accuracy: 0.5779\n",
      "Epoch 00004: val_loss improved from 1.21820 to 1.15457, saving model to saved_models\\weights.best.basic_cnn.hdf5\n",
      "14/14 [==============================] - 24s 2s/step - loss: 1.0646 - accuracy: 0.5779 - val_loss: 1.1546 - val_accuracy: 0.5611\n",
      "Epoch 5/72\n",
      "14/14 [==============================] - ETA: 0s - loss: 0.9660 - accuracy: 0.6219\n",
      "Epoch 00005: val_loss improved from 1.15457 to 1.07376, saving model to saved_models\\weights.best.basic_cnn.hdf5\n",
      "14/14 [==============================] - 19s 1s/step - loss: 0.9660 - accuracy: 0.6219 - val_loss: 1.0738 - val_accuracy: 0.6023\n",
      "Epoch 6/72\n",
      "14/14 [==============================] - ETA: 0s - loss: 0.9075 - accuracy: 0.6482\n",
      "Epoch 00006: val_loss improved from 1.07376 to 1.07054, saving model to saved_models\\weights.best.basic_cnn.hdf5\n",
      "14/14 [==============================] - 17s 1s/step - loss: 0.9075 - accuracy: 0.6482 - val_loss: 1.0705 - val_accuracy: 0.5726\n",
      "Epoch 7/72\n",
      "14/14 [==============================] - ETA: 0s - loss: 0.8689 - accuracy: 0.6562\n",
      "Epoch 00007: val_loss improved from 1.07054 to 1.03530, saving model to saved_models\\weights.best.basic_cnn.hdf5\n",
      "14/14 [==============================] - 20s 1s/step - loss: 0.8689 - accuracy: 0.6562 - val_loss: 1.0353 - val_accuracy: 0.5691\n",
      "Epoch 8/72\n",
      "14/14 [==============================] - ETA: 0s - loss: 0.8336 - accuracy: 0.6799\n",
      "Epoch 00008: val_loss improved from 1.03530 to 1.03392, saving model to saved_models\\weights.best.basic_cnn.hdf5\n",
      "14/14 [==============================] - 19s 1s/step - loss: 0.8336 - accuracy: 0.6799 - val_loss: 1.0339 - val_accuracy: 0.5634\n",
      "Epoch 9/72\n",
      "14/14 [==============================] - ETA: 0s - loss: 0.7899 - accuracy: 0.6925\n",
      "Epoch 00009: val_loss improved from 1.03392 to 1.03135, saving model to saved_models\\weights.best.basic_cnn.hdf5\n",
      "14/14 [==============================] - 18s 1s/step - loss: 0.7899 - accuracy: 0.6925 - val_loss: 1.0314 - val_accuracy: 0.5806\n",
      "Epoch 10/72\n",
      "14/14 [==============================] - ETA: 0s - loss: 0.7502 - accuracy: 0.7082\n",
      "Epoch 00010: val_loss improved from 1.03135 to 0.96967, saving model to saved_models\\weights.best.basic_cnn.hdf5\n",
      "14/14 [==============================] - 14s 1s/step - loss: 0.7502 - accuracy: 0.7082 - val_loss: 0.9697 - val_accuracy: 0.6137\n",
      "Epoch 11/72\n",
      "14/14 [==============================] - ETA: 0s - loss: 0.7227 - accuracy: 0.7245\n",
      "Epoch 00011: val_loss improved from 0.96967 to 0.87608, saving model to saved_models\\weights.best.basic_cnn.hdf5\n",
      "14/14 [==============================] - 16s 1s/step - loss: 0.7227 - accuracy: 0.7245 - val_loss: 0.8761 - val_accuracy: 0.6686\n",
      "Epoch 12/72\n",
      "14/14 [==============================] - ETA: 0s - loss: 0.7231 - accuracy: 0.7208\n",
      "Epoch 00012: val_loss did not improve from 0.87608\n",
      "14/14 [==============================] - 15s 1s/step - loss: 0.7231 - accuracy: 0.7208 - val_loss: 0.9350 - val_accuracy: 0.6126\n",
      "Epoch 13/72\n",
      "14/14 [==============================] - ETA: 0s - loss: 0.6763 - accuracy: 0.7371\n",
      "Epoch 00013: val_loss did not improve from 0.87608\n",
      "14/14 [==============================] - 13s 955ms/step - loss: 0.6763 - accuracy: 0.7371 - val_loss: 0.9063 - val_accuracy: 0.6389\n",
      "Epoch 14/72\n",
      "14/14 [==============================] - ETA: 0s - loss: 0.6521 - accuracy: 0.7505\n",
      "Epoch 00014: val_loss did not improve from 0.87608\n",
      "14/14 [==============================] - 14s 984ms/step - loss: 0.6521 - accuracy: 0.7505 - val_loss: 0.9318 - val_accuracy: 0.6080\n",
      "Epoch 15/72\n",
      "14/14 [==============================] - ETA: 0s - loss: 0.6205 - accuracy: 0.7631\n",
      "Epoch 00015: val_loss did not improve from 0.87608\n",
      "14/14 [==============================] - 14s 970ms/step - loss: 0.6205 - accuracy: 0.7631 - val_loss: 0.9165 - val_accuracy: 0.6160\n",
      "Epoch 16/72\n",
      "14/14 [==============================] - ETA: 0s - loss: 0.6130 - accuracy: 0.7682\n",
      "Epoch 00016: val_loss did not improve from 0.87608\n",
      "14/14 [==============================] - 13s 951ms/step - loss: 0.6130 - accuracy: 0.7682 - val_loss: 0.8808 - val_accuracy: 0.6343\n",
      "Epoch 17/72\n",
      "14/14 [==============================] - ETA: 0s - loss: 0.6041 - accuracy: 0.7711\n",
      "Epoch 00017: val_loss did not improve from 0.87608\n",
      "14/14 [==============================] - 13s 950ms/step - loss: 0.6041 - accuracy: 0.7711 - val_loss: 0.9741 - val_accuracy: 0.5783\n",
      "Epoch 18/72\n",
      "14/14 [==============================] - ETA: 0s - loss: 0.5919 - accuracy: 0.7719\n",
      "Epoch 00018: val_loss did not improve from 0.87608\n",
      "14/14 [==============================] - 13s 952ms/step - loss: 0.5919 - accuracy: 0.7719 - val_loss: 0.9825 - val_accuracy: 0.5691\n",
      "Epoch 19/72\n",
      "14/14 [==============================] - ETA: 0s - loss: 0.5545 - accuracy: 0.7819\n",
      "Epoch 00019: val_loss improved from 0.87608 to 0.84097, saving model to saved_models\\weights.best.basic_cnn.hdf5\n",
      "14/14 [==============================] - 14s 975ms/step - loss: 0.5545 - accuracy: 0.7819 - val_loss: 0.8410 - val_accuracy: 0.6286\n",
      "Epoch 20/72\n",
      "14/14 [==============================] - ETA: 0s - loss: 0.5603 - accuracy: 0.7891\n",
      "Epoch 00020: val_loss did not improve from 0.84097\n",
      "14/14 [==============================] - 15s 1s/step - loss: 0.5603 - accuracy: 0.7891 - val_loss: 0.9851 - val_accuracy: 0.5920\n",
      "Epoch 21/72\n",
      "14/14 [==============================] - ETA: 0s - loss: 0.5377 - accuracy: 0.7957\n",
      "Epoch 00021: val_loss did not improve from 0.84097\n",
      "14/14 [==============================] - 16s 1s/step - loss: 0.5377 - accuracy: 0.7957 - val_loss: 1.0239 - val_accuracy: 0.5737\n",
      "Epoch 22/72\n",
      "14/14 [==============================] - ETA: 0s - loss: 0.5090 - accuracy: 0.8054\n",
      "Epoch 00022: val_loss did not improve from 0.84097\n",
      "14/14 [==============================] - 16s 1s/step - loss: 0.5090 - accuracy: 0.8054 - val_loss: 0.9943 - val_accuracy: 0.5840\n",
      "Epoch 23/72\n",
      "14/14 [==============================] - ETA: 0s - loss: 0.4916 - accuracy: 0.8097\n",
      "Epoch 00023: val_loss did not improve from 0.84097\n",
      "14/14 [==============================] - 16s 1s/step - loss: 0.4916 - accuracy: 0.8097 - val_loss: 0.8979 - val_accuracy: 0.6240\n",
      "Epoch 24/72\n",
      "14/14 [==============================] - ETA: 0s - loss: 0.4766 - accuracy: 0.8237\n",
      "Epoch 00024: val_loss did not improve from 0.84097\n",
      "14/14 [==============================] - 15s 1s/step - loss: 0.4766 - accuracy: 0.8237 - val_loss: 0.9241 - val_accuracy: 0.6320\n",
      "Epoch 25/72\n",
      "14/14 [==============================] - ETA: 0s - loss: 0.4873 - accuracy: 0.8105\n",
      "Epoch 00025: val_loss did not improve from 0.84097\n",
      "14/14 [==============================] - 15s 1s/step - loss: 0.4873 - accuracy: 0.8105 - val_loss: 0.9728 - val_accuracy: 0.5749\n",
      "Epoch 26/72\n",
      "14/14 [==============================] - ETA: 0s - loss: 0.4782 - accuracy: 0.8222\n",
      "Epoch 00026: val_loss did not improve from 0.84097\n",
      "14/14 [==============================] - 16s 1s/step - loss: 0.4782 - accuracy: 0.8222 - val_loss: 0.9597 - val_accuracy: 0.6240\n",
      "Epoch 27/72\n",
      "14/14 [==============================] - ETA: 0s - loss: 0.4510 - accuracy: 0.8314\n",
      "Epoch 00027: val_loss did not improve from 0.84097\n",
      "14/14 [==============================] - 16s 1s/step - loss: 0.4510 - accuracy: 0.8314 - val_loss: 0.9611 - val_accuracy: 0.5909\n",
      "Epoch 28/72\n",
      "14/14 [==============================] - ETA: 0s - loss: 0.4263 - accuracy: 0.8348\n",
      "Epoch 00028: val_loss did not improve from 0.84097\n",
      "14/14 [==============================] - 13s 945ms/step - loss: 0.4263 - accuracy: 0.8348 - val_loss: 1.0766 - val_accuracy: 0.5977\n",
      "Epoch 29/72\n",
      "14/14 [==============================] - ETA: 0s - loss: 0.4280 - accuracy: 0.8380\n",
      "Epoch 00029: val_loss improved from 0.84097 to 0.78186, saving model to saved_models\\weights.best.basic_cnn.hdf5\n",
      "14/14 [==============================] - 14s 973ms/step - loss: 0.4280 - accuracy: 0.8380 - val_loss: 0.7819 - val_accuracy: 0.6811\n",
      "Epoch 30/72\n",
      "14/14 [==============================] - ETA: 0s - loss: 0.4297 - accuracy: 0.8368\n",
      "Epoch 00030: val_loss did not improve from 0.78186\n",
      "14/14 [==============================] - 14s 974ms/step - loss: 0.4297 - accuracy: 0.8368 - val_loss: 1.1749 - val_accuracy: 0.5486\n",
      "Epoch 31/72\n",
      "14/14 [==============================] - ETA: 0s - loss: 0.4241 - accuracy: 0.8374\n",
      "Epoch 00031: val_loss did not improve from 0.78186\n",
      "14/14 [==============================] - 13s 948ms/step - loss: 0.4241 - accuracy: 0.8374 - val_loss: 0.8891 - val_accuracy: 0.6309\n",
      "Epoch 32/72\n",
      "14/14 [==============================] - ETA: 0s - loss: 0.3898 - accuracy: 0.8494\n",
      "Epoch 00032: val_loss did not improve from 0.78186\n",
      "14/14 [==============================] - 13s 939ms/step - loss: 0.3898 - accuracy: 0.8494 - val_loss: 1.0003 - val_accuracy: 0.6194\n",
      "Epoch 33/72\n",
      "14/14 [==============================] - ETA: 0s - loss: 0.3888 - accuracy: 0.8482\n",
      "Epoch 00033: val_loss did not improve from 0.78186\n",
      "14/14 [==============================] - 14s 1s/step - loss: 0.3888 - accuracy: 0.8482 - val_loss: 0.8879 - val_accuracy: 0.6423\n",
      "Epoch 34/72\n",
      "14/14 [==============================] - ETA: 0s - loss: 0.3806 - accuracy: 0.8591\n",
      "Epoch 00034: val_loss did not improve from 0.78186\n",
      "14/14 [==============================] - 15s 1s/step - loss: 0.3806 - accuracy: 0.8591 - val_loss: 0.8414 - val_accuracy: 0.6640\n",
      "Epoch 35/72\n",
      "14/14 [==============================] - ETA: 0s - loss: 0.3751 - accuracy: 0.8562\n",
      "Epoch 00035: val_loss did not improve from 0.78186\n",
      "14/14 [==============================] - 14s 971ms/step - loss: 0.3751 - accuracy: 0.8562 - val_loss: 0.9304 - val_accuracy: 0.6331\n",
      "Epoch 36/72\n",
      "14/14 [==============================] - ETA: 0s - loss: 0.3702 - accuracy: 0.8577\n",
      "Epoch 00036: val_loss did not improve from 0.78186\n",
      "14/14 [==============================] - 14s 988ms/step - loss: 0.3702 - accuracy: 0.8577 - val_loss: 0.8411 - val_accuracy: 0.6720\n",
      "Epoch 37/72\n",
      "14/14 [==============================] - ETA: 0s - loss: 0.3721 - accuracy: 0.8568\n",
      "Epoch 00037: val_loss did not improve from 0.78186\n",
      "14/14 [==============================] - 14s 980ms/step - loss: 0.3721 - accuracy: 0.8568 - val_loss: 1.0116 - val_accuracy: 0.6240\n",
      "Epoch 38/72\n",
      "14/14 [==============================] - ETA: 0s - loss: 0.3481 - accuracy: 0.8665\n",
      "Epoch 00038: val_loss did not improve from 0.78186\n",
      "14/14 [==============================] - 14s 977ms/step - loss: 0.3481 - accuracy: 0.8665 - val_loss: 1.0970 - val_accuracy: 0.6000\n",
      "Epoch 39/72\n",
      "14/14 [==============================] - ETA: 0s - loss: 0.3403 - accuracy: 0.8697\n",
      "Epoch 00039: val_loss did not improve from 0.78186\n",
      "14/14 [==============================] - 14s 998ms/step - loss: 0.3403 - accuracy: 0.8697 - val_loss: 0.8897 - val_accuracy: 0.6697\n",
      "Epoch 40/72\n",
      "14/14 [==============================] - ETA: 0s - loss: 0.3405 - accuracy: 0.8660\n",
      "Epoch 00040: val_loss did not improve from 0.78186\n",
      "14/14 [==============================] - 14s 992ms/step - loss: 0.3405 - accuracy: 0.8660 - val_loss: 1.1909 - val_accuracy: 0.6137\n",
      "Epoch 41/72\n",
      "14/14 [==============================] - ETA: 0s - loss: 0.3340 - accuracy: 0.8714\n",
      "Epoch 00041: val_loss did not improve from 0.78186\n",
      "14/14 [==============================] - 14s 985ms/step - loss: 0.3340 - accuracy: 0.8714 - val_loss: 1.0480 - val_accuracy: 0.6194\n",
      "Epoch 42/72\n",
      "14/14 [==============================] - ETA: 0s - loss: 0.3378 - accuracy: 0.8708\n",
      "Epoch 00042: val_loss did not improve from 0.78186\n",
      "14/14 [==============================] - 14s 996ms/step - loss: 0.3378 - accuracy: 0.8708 - val_loss: 0.9037 - val_accuracy: 0.6606\n",
      "Epoch 43/72\n",
      "14/14 [==============================] - ETA: 0s - loss: 0.3248 - accuracy: 0.8714\n",
      "Epoch 00043: val_loss did not improve from 0.78186\n",
      "14/14 [==============================] - 14s 1s/step - loss: 0.3248 - accuracy: 0.8714 - val_loss: 1.1624 - val_accuracy: 0.5989\n",
      "Epoch 44/72\n",
      "14/14 [==============================] - ETA: 0s - loss: 0.3157 - accuracy: 0.8837\n",
      "Epoch 00044: val_loss did not improve from 0.78186\n",
      "14/14 [==============================] - 14s 991ms/step - loss: 0.3157 - accuracy: 0.8837 - val_loss: 0.9415 - val_accuracy: 0.6503\n",
      "Epoch 45/72\n",
      "14/14 [==============================] - ETA: 0s - loss: 0.3060 - accuracy: 0.8834\n",
      "Epoch 00045: val_loss did not improve from 0.78186\n",
      "14/14 [==============================] - 14s 984ms/step - loss: 0.3060 - accuracy: 0.8834 - val_loss: 0.8801 - val_accuracy: 0.6857\n",
      "Epoch 46/72\n",
      "14/14 [==============================] - ETA: 0s - loss: 0.3070 - accuracy: 0.8900\n",
      "Epoch 00046: val_loss did not improve from 0.78186\n",
      "14/14 [==============================] - 15s 1s/step - loss: 0.3070 - accuracy: 0.8900 - val_loss: 0.9522 - val_accuracy: 0.6640\n",
      "Epoch 47/72\n",
      "14/14 [==============================] - ETA: 0s - loss: 0.3193 - accuracy: 0.8748\n",
      "Epoch 00047: val_loss did not improve from 0.78186\n",
      "14/14 [==============================] - 18s 1s/step - loss: 0.3193 - accuracy: 0.8748 - val_loss: 0.8961 - val_accuracy: 0.6777\n",
      "Epoch 48/72\n",
      "14/14 [==============================] - ETA: 0s - loss: 0.3131 - accuracy: 0.8794\n",
      "Epoch 00048: val_loss improved from 0.78186 to 0.76504, saving model to saved_models\\weights.best.basic_cnn.hdf5\n",
      "14/14 [==============================] - 17s 1s/step - loss: 0.3131 - accuracy: 0.8794 - val_loss: 0.7650 - val_accuracy: 0.7051\n",
      "Epoch 49/72\n",
      "14/14 [==============================] - ETA: 0s - loss: 0.3331 - accuracy: 0.8694\n",
      "Epoch 00049: val_loss did not improve from 0.76504\n",
      "14/14 [==============================] - 14s 999ms/step - loss: 0.3331 - accuracy: 0.8694 - val_loss: 1.6604 - val_accuracy: 0.5303\n",
      "Epoch 50/72\n",
      "14/14 [==============================] - ETA: 0s - loss: 0.3168 - accuracy: 0.8828\n",
      "Epoch 00050: val_loss did not improve from 0.76504\n",
      "14/14 [==============================] - 15s 1s/step - loss: 0.3168 - accuracy: 0.8828 - val_loss: 0.7710 - val_accuracy: 0.7074\n",
      "Epoch 51/72\n",
      "14/14 [==============================] - ETA: 0s - loss: 0.3045 - accuracy: 0.8823\n",
      "Epoch 00051: val_loss did not improve from 0.76504\n",
      "14/14 [==============================] - 16s 1s/step - loss: 0.3045 - accuracy: 0.8823 - val_loss: 1.0348 - val_accuracy: 0.6377\n",
      "Epoch 52/72\n",
      "14/14 [==============================] - ETA: 0s - loss: 0.2764 - accuracy: 0.8991\n",
      "Epoch 00052: val_loss did not improve from 0.76504\n",
      "14/14 [==============================] - 14s 1s/step - loss: 0.2764 - accuracy: 0.8991 - val_loss: 0.9214 - val_accuracy: 0.6594\n",
      "Epoch 53/72\n",
      "14/14 [==============================] - ETA: 0s - loss: 0.2829 - accuracy: 0.8911\n",
      "Epoch 00053: val_loss did not improve from 0.76504\n",
      "14/14 [==============================] - 14s 1s/step - loss: 0.2829 - accuracy: 0.8911 - val_loss: 0.9422 - val_accuracy: 0.6754\n",
      "Epoch 54/72\n",
      "14/14 [==============================] - ETA: 0s - loss: 0.2819 - accuracy: 0.8977\n",
      "Epoch 00054: val_loss did not improve from 0.76504\n",
      "14/14 [==============================] - 14s 999ms/step - loss: 0.2819 - accuracy: 0.8977 - val_loss: 0.8846 - val_accuracy: 0.6777\n",
      "Epoch 55/72\n",
      "14/14 [==============================] - ETA: 0s - loss: 0.2681 - accuracy: 0.8937\n",
      "Epoch 00055: val_loss did not improve from 0.76504\n",
      "14/14 [==============================] - 20s 1s/step - loss: 0.2681 - accuracy: 0.8937 - val_loss: 1.0655 - val_accuracy: 0.6457\n",
      "Epoch 56/72\n",
      "14/14 [==============================] - ETA: 0s - loss: 0.2630 - accuracy: 0.9020\n",
      "Epoch 00056: val_loss did not improve from 0.76504\n",
      "14/14 [==============================] - 20s 1s/step - loss: 0.2630 - accuracy: 0.9020 - val_loss: 1.1137 - val_accuracy: 0.6366\n",
      "Epoch 57/72\n",
      "14/14 [==============================] - ETA: 0s - loss: 0.2457 - accuracy: 0.9060\n",
      "Epoch 00057: val_loss improved from 0.76504 to 0.74118, saving model to saved_models\\weights.best.basic_cnn.hdf5\n",
      "14/14 [==============================] - 21s 1s/step - loss: 0.2457 - accuracy: 0.9060 - val_loss: 0.7412 - val_accuracy: 0.7314\n",
      "Epoch 58/72\n",
      "14/14 [==============================] - ETA: 0s - loss: 0.2607 - accuracy: 0.9085\n",
      "Epoch 00058: val_loss did not improve from 0.74118\n",
      "14/14 [==============================] - 18s 1s/step - loss: 0.2607 - accuracy: 0.9085 - val_loss: 0.8600 - val_accuracy: 0.6937\n",
      "Epoch 59/72\n",
      "14/14 [==============================] - ETA: 0s - loss: 0.2454 - accuracy: 0.9083\n",
      "Epoch 00059: val_loss did not improve from 0.74118\n",
      "14/14 [==============================] - 33s 2s/step - loss: 0.2454 - accuracy: 0.9083 - val_loss: 0.8238 - val_accuracy: 0.7006\n",
      "Epoch 60/72\n",
      "14/14 [==============================] - ETA: 0s - loss: 0.2491 - accuracy: 0.9088\n",
      "Epoch 00060: val_loss did not improve from 0.74118\n",
      "14/14 [==============================] - 31s 2s/step - loss: 0.2491 - accuracy: 0.9088 - val_loss: 0.7536 - val_accuracy: 0.7223\n",
      "Epoch 61/72\n",
      "14/14 [==============================] - ETA: 0s - loss: 0.2469 - accuracy: 0.9057\n",
      "Epoch 00061: val_loss improved from 0.74118 to 0.58854, saving model to saved_models\\weights.best.basic_cnn.hdf5\n",
      "14/14 [==============================] - 19s 1s/step - loss: 0.2469 - accuracy: 0.9057 - val_loss: 0.5885 - val_accuracy: 0.7806\n",
      "Epoch 62/72\n",
      "14/14 [==============================] - ETA: 0s - loss: 0.2769 - accuracy: 0.8985\n",
      "Epoch 00062: val_loss did not improve from 0.58854\n",
      "14/14 [==============================] - 16s 1s/step - loss: 0.2769 - accuracy: 0.8985 - val_loss: 0.8033 - val_accuracy: 0.7246\n",
      "Epoch 63/72\n",
      "14/14 [==============================] - ETA: 0s - loss: 0.2460 - accuracy: 0.9094\n",
      "Epoch 00063: val_loss did not improve from 0.58854\n",
      "14/14 [==============================] - 18s 1s/step - loss: 0.2460 - accuracy: 0.9094 - val_loss: 0.8846 - val_accuracy: 0.6914\n",
      "Epoch 64/72\n",
      "14/14 [==============================] - ETA: 0s - loss: 0.2377 - accuracy: 0.9128\n",
      "Epoch 00064: val_loss did not improve from 0.58854\n",
      "14/14 [==============================] - 18s 1s/step - loss: 0.2377 - accuracy: 0.9128 - val_loss: 0.6729 - val_accuracy: 0.7497\n",
      "Epoch 65/72\n",
      "14/14 [==============================] - ETA: 0s - loss: 0.2334 - accuracy: 0.9111\n",
      "Epoch 00065: val_loss did not improve from 0.58854\n",
      "14/14 [==============================] - 21s 1s/step - loss: 0.2334 - accuracy: 0.9111 - val_loss: 0.8307 - val_accuracy: 0.7006\n",
      "Epoch 66/72\n",
      "14/14 [==============================] - ETA: 0s - loss: 0.2123 - accuracy: 0.9208\n",
      "Epoch 00066: val_loss did not improve from 0.58854\n",
      "14/14 [==============================] - 19s 1s/step - loss: 0.2123 - accuracy: 0.9208 - val_loss: 0.7647 - val_accuracy: 0.7371\n",
      "Epoch 67/72\n",
      "14/14 [==============================] - ETA: 0s - loss: 0.2194 - accuracy: 0.9154\n",
      "Epoch 00067: val_loss did not improve from 0.58854\n",
      "14/14 [==============================] - 21s 1s/step - loss: 0.2194 - accuracy: 0.9154 - val_loss: 0.7279 - val_accuracy: 0.7383\n",
      "Epoch 68/72\n",
      "14/14 [==============================] - ETA: 0s - loss: 0.2233 - accuracy: 0.9180\n",
      "Epoch 00068: val_loss improved from 0.58854 to 0.55557, saving model to saved_models\\weights.best.basic_cnn.hdf5\n",
      "14/14 [==============================] - 18s 1s/step - loss: 0.2233 - accuracy: 0.9180 - val_loss: 0.5556 - val_accuracy: 0.7943\n",
      "Epoch 69/72\n",
      "14/14 [==============================] - ETA: 0s - loss: 0.2278 - accuracy: 0.9131\n",
      "Epoch 00069: val_loss did not improve from 0.55557\n",
      "14/14 [==============================] - 19s 1s/step - loss: 0.2278 - accuracy: 0.9131 - val_loss: 0.7572 - val_accuracy: 0.7360\n",
      "Epoch 70/72\n",
      "14/14 [==============================] - ETA: 0s - loss: 0.2126 - accuracy: 0.9191\n",
      "Epoch 00070: val_loss did not improve from 0.55557\n",
      "14/14 [==============================] - 23s 2s/step - loss: 0.2126 - accuracy: 0.9191 - val_loss: 0.9699 - val_accuracy: 0.6789\n",
      "Epoch 71/72\n",
      "14/14 [==============================] - ETA: 0s - loss: 0.2200 - accuracy: 0.9131\n",
      "Epoch 00071: val_loss did not improve from 0.55557\n",
      "14/14 [==============================] - 16s 1s/step - loss: 0.2200 - accuracy: 0.9131 - val_loss: 0.8107 - val_accuracy: 0.7291\n",
      "Epoch 72/72\n",
      "14/14 [==============================] - ETA: 0s - loss: 0.1962 - accuracy: 0.9280\n",
      "Epoch 00072: val_loss did not improve from 0.55557\n",
      "14/14 [==============================] - 15s 1s/step - loss: 0.1962 - accuracy: 0.9280 - val_loss: 0.8932 - val_accuracy: 0.7166\n",
      "Training completed in time:  0:21:27.214107\n"
     ]
    }
   ],
   "source": [
    "from tensorflow.keras.callbacks import ModelCheckpoint\n",
    "from datetime import datetime\n",
    "\n",
    "#num_epochs = 12\n",
    "#num_batch_size = 128\n",
    "\n",
    "num_epochs = 72\n",
    "num_batch_size = 256\n",
    "\n",
    "checkpointer = ModelCheckpoint(filepath='saved_models/weights.best.basic_cnn.hdf5',\n",
    "                               verbose=1, save_best_only=True)\n",
    "start = datetime.now()\n",
    "\n",
    "history = model.fit(x_train, y_train, batch_size=num_batch_size, epochs=num_epochs, validation_data=(x_test, y_test), callbacks=[checkpointer], verbose=1)\n",
    "\n",
    "\n",
    "duration = datetime.now() - start\n",
    "print(\"Training completed in time: \", duration)"
   ],
   "metadata": {
    "collapsed": false,
    "pycharm": {
     "name": "#%%\n"
    }
   }
  },
  {
   "cell_type": "code",
   "execution_count": 8,
   "outputs": [],
   "source": [
    "def print_prediction(file_name):\n",
    "    prediction_feature = extract_features(file_name)\n",
    "    prediction_feature = prediction_feature.reshape(1, num_rows, num_columns, num_channels)\n",
    "\n",
    "    predicted_vector = np.argmax(model.predict(prediction_feature), axis=-1)\n",
    "    predicted_class = le.inverse_transform(predicted_vector)\n",
    "    print(\"The predicted class is:\", predicted_class[0], '\\n')\n",
    "\n",
    "    predicted_proba_vector = model.predict(prediction_feature)\n",
    "    predicted_proba = predicted_proba_vector[0]\n",
    "    for i in range(len(predicted_proba)):\n",
    "        category = le.inverse_transform(np.array([i]))\n",
    "        print(category[0], \"\\t\\t : \", format(predicted_proba[i], '.32f') )"
   ],
   "metadata": {
    "collapsed": false,
    "pycharm": {
     "name": "#%%\n"
    }
   }
  },
  {
   "cell_type": "code",
   "execution_count": 10,
   "outputs": [
    {
     "data": {
      "text/plain": "<Figure size 432x288 with 1 Axes>",
      "image/png": "[encoded data removed]"
     },
     "metadata": {
      "needs_background": "light"
     },
     "output_type": "display_data"
    }
   ],
   "source": [
    "import matplotlib.pyplot as plt\n",
    "\n",
    "metrics = history.history\n",
    "plt.plot(history.epoch, metrics['accuracy'], metrics['val_accuracy'])\n",
    "plt.legend(['accuracy', 'val_accuracy'])\n",
    "plt.show()"
   ],
   "metadata": {
    "collapsed": false,
    "pycharm": {
     "name": "#%%\n"
    }
   }
  },
  {
   "cell_type": "code",
   "execution_count": 165,
   "outputs": [],
   "source": [
    "y_test_arg = np.argmax(y_test,axis=1)\n",
    "Y_pred = np.argmax(model.predict(x_test),axis=1)"
   ],
   "metadata": {
    "collapsed": false,
    "pycharm": {
     "name": "#%%\n"
    }
   }
  },
  {
   "cell_type": "code",
   "execution_count": 166,
   "outputs": [
    {
     "name": "stdout",
     "output_type": "stream",
     "text": [
      "['angin' 'gergaji' 'orang_berbicara' 'suara_alam' 'suara_tembakan']\n",
      "['angin', 'gergaji', 'orang_berbicara', 'suara_alam', 'suara_tembakan']\n"
     ]
    }
   ],
   "source": [
    "le.classes_ = np.load('./saved_models/classes.npy')\n",
    "sound_class = le.classes_.tolist()\n",
    "print(le.classes_)\n",
    "print(sound_class)"
   ],
   "metadata": {
    "collapsed": false,
    "pycharm": {
     "name": "#%%\n"
    }
   }
  },
  {
   "cell_type": "code",
   "execution_count": 167,
   "outputs": [
    {
     "data": {
      "text/plain": "<Figure size 1080x936 with 2 Axes>",
      "image/png": "[encoded data removed]"
     },
     "metadata": {
      "needs_background": "light"
     },
     "output_type": "display_data"
    }
   ],
   "source": [
    "import matplotlib.pyplot as plt\n",
    "import seaborn as sns\n",
    "\n",
    "confusion_mtx = tf.math.confusion_matrix(y_test_arg, Y_pred)\n",
    "plt.figure(figsize=(15, 13))\n",
    "sns.heatmap(confusion_mtx, xticklabels=le.classes_, yticklabels=le.classes_,\n",
    "            annot=True, fmt='g')\n",
    "plt.xlabel('Prediction')\n",
    "plt.ylabel('Label')\n",
    "plt.show()"
   ],
   "metadata": {
    "collapsed": false,
    "pycharm": {
     "name": "#%%\n"
    }
   }
  },
  {
   "cell_type": "code",
   "execution_count": 168,
   "outputs": [
    {
     "name": "stdout",
     "output_type": "stream",
     "text": [
      "The predicted class is: angin \n",
      "\n",
      "angin \t\t :  0.93031740188598632812500000000000\n",
      "gergaji \t\t :  0.01816755905747413635253906250000\n",
      "orang_berbicara \t\t :  0.02021523192524909973144531250000\n",
      "suara_alam \t\t :  0.03124624304473400115966796875000\n",
      "suara_tembakan \t\t :  0.00005357536429073661565780639648\n"
     ]
    }
   ],
   "source": [
    "filename = 'Evaluation audio/hasil_gergaji/25 meter/gergaji (1).wav'\n",
    "print_prediction(filename)"
   ],
   "metadata": {
    "collapsed": false,
    "pycharm": {
     "name": "#%%\n"
    }
   }
  },
  {
   "cell_type": "code",
   "execution_count": 169,
   "outputs": [
    {
     "name": "stdout",
     "output_type": "stream",
     "text": [
      "The predicted class is: angin \n",
      "\n",
      "angin \t\t :  0.85399419069290161132812500000000\n",
      "gergaji \t\t :  0.01342162676155567169189453125000\n",
      "orang_berbicara \t\t :  0.08808822929859161376953125000000\n",
      "suara_alam \t\t :  0.04440875723958015441894531250000\n",
      "suara_tembakan \t\t :  0.00008720094047021120786666870117\n"
     ]
    }
   ],
   "source": [
    "filename = 'Evaluation audio/hasil_gergaji/25 meter/gergaji (2).wav'\n",
    "print_prediction(filename)"
   ],
   "metadata": {
    "collapsed": false,
    "pycharm": {
     "name": "#%%\n"
    }
   }
  },
  {
   "cell_type": "code",
   "execution_count": 170,
   "outputs": [
    {
     "name": "stdout",
     "output_type": "stream",
     "text": [
      "The predicted class is: angin \n",
      "\n",
      "angin \t\t :  0.54726415872573852539062500000000\n",
      "gergaji \t\t :  0.05163333937525749206542968750000\n",
      "orang_berbicara \t\t :  0.09852562844753265380859375000000\n",
      "suara_alam \t\t :  0.30233526229858398437500000000000\n",
      "suara_tembakan \t\t :  0.00024162675254046916961669921875\n"
     ]
    }
   ],
   "source": [
    "filename = 'Evaluation audio/hasil_gergaji/25 meter/gergaji (3).wav'\n",
    "print_prediction(filename)"
   ],
   "metadata": {
    "collapsed": false,
    "pycharm": {
     "name": "#%%\n"
    }
   }
  },
  {
   "cell_type": "code",
   "execution_count": 171,
   "outputs": [
    {
     "name": "stdout",
     "output_type": "stream",
     "text": [
      "The predicted class is: angin \n",
      "\n",
      "angin \t\t :  0.54351943731307983398437500000000\n",
      "gergaji \t\t :  0.09698578715324401855468750000000\n",
      "orang_berbicara \t\t :  0.09293625503778457641601562500000\n",
      "suara_alam \t\t :  0.26619917154312133789062500000000\n",
      "suara_tembakan \t\t :  0.00035941399983130395412445068359\n"
     ]
    }
   ],
   "source": [
    "filename = 'Evaluation audio/hasil_gergaji/25 meter/gergaji (4).wav'\n",
    "print_prediction(filename)"
   ],
   "metadata": {
    "collapsed": false,
    "pycharm": {
     "name": "#%%\n"
    }
   }
  },
  {
   "cell_type": "code",
   "execution_count": 172,
   "outputs": [
    {
     "name": "stdout",
     "output_type": "stream",
     "text": [
      "The predicted class is: angin \n",
      "\n",
      "angin \t\t :  0.97106182575225830078125000000000\n",
      "gergaji \t\t :  0.00581945106387138366699218750000\n",
      "orang_berbicara \t\t :  0.00733307702466845512390136718750\n",
      "suara_alam \t\t :  0.01574345491826534271240234375000\n",
      "suara_tembakan \t\t :  0.00004219980837660841643810272217\n"
     ]
    }
   ],
   "source": [
    "filename = 'Evaluation audio/hasil_gergaji/25 meter/gergaji (5).wav'\n",
    "print_prediction(filename)"
   ],
   "metadata": {
    "collapsed": false,
    "pycharm": {
     "name": "#%%\n"
    }
   }
  },
  {
   "cell_type": "code",
   "execution_count": 173,
   "outputs": [
    {
     "name": "stdout",
     "output_type": "stream",
     "text": [
      "The predicted class is: angin \n",
      "\n",
      "angin \t\t :  0.97595971822738647460937500000000\n",
      "gergaji \t\t :  0.01267368439584970474243164062500\n",
      "orang_berbicara \t\t :  0.00441657006740570068359375000000\n",
      "suara_alam \t\t :  0.00688995840027928352355957031250\n",
      "suara_tembakan \t\t :  0.00006011445657350122928619384766\n"
     ]
    }
   ],
   "source": [
    "filename = 'Evaluation audio/hasil_gergaji/25 meter/gergaji (6).wav'\n",
    "print_prediction(filename)"
   ],
   "metadata": {
    "collapsed": false,
    "pycharm": {
     "name": "#%%\n"
    }
   }
  },
  {
   "cell_type": "code",
   "execution_count": 174,
   "outputs": [
    {
     "name": "stdout",
     "output_type": "stream",
     "text": [
      "The predicted class is: angin \n",
      "\n",
      "angin \t\t :  0.99793660640716552734375000000000\n",
      "gergaji \t\t :  0.00023428226995747536420822143555\n",
      "orang_berbicara \t\t :  0.00171704380773007869720458984375\n",
      "suara_alam \t\t :  0.00011202994210179895162582397461\n",
      "suara_tembakan \t\t :  0.00000013887523664379841648042202\n"
     ]
    }
   ],
   "source": [
    "filename = 'Evaluation audio/hasil_gergaji/25 meter/gergaji (7).wav'\n",
    "print_prediction(filename)"
   ],
   "metadata": {
    "collapsed": false,
    "pycharm": {
     "name": "#%%\n"
    }
   }
  },
  {
   "cell_type": "code",
   "execution_count": 175,
   "outputs": [
    {
     "name": "stdout",
     "output_type": "stream",
     "text": [
      "The predicted class is: angin \n",
      "\n",
      "angin \t\t :  0.99704664945602416992187500000000\n",
      "gergaji \t\t :  0.00047269396600313484668731689453\n",
      "orang_berbicara \t\t :  0.00220255809836089611053466796875\n",
      "suara_alam \t\t :  0.00027734352624975144863128662109\n",
      "suara_tembakan \t\t :  0.00000078285427207447355613112450\n"
     ]
    }
   ],
   "source": [
    "filename = 'Evaluation audio/hasil_gergaji/25 meter/gergaji (8).wav'\n",
    "print_prediction(filename)"
   ],
   "metadata": {
    "collapsed": false,
    "pycharm": {
     "name": "#%%\n"
    }
   }
  },
  {
   "cell_type": "code",
   "execution_count": 176,
   "outputs": [
    {
     "name": "stdout",
     "output_type": "stream",
     "text": [
      "The predicted class is: angin \n",
      "\n",
      "angin \t\t :  0.92294913530349731445312500000000\n",
      "gergaji \t\t :  0.00395456887781620025634765625000\n",
      "orang_berbicara \t\t :  0.06856095045804977416992187500000\n",
      "suara_alam \t\t :  0.00453243125230073928833007812500\n",
      "suara_tembakan \t\t :  0.00000284320572063734289258718491\n"
     ]
    }
   ],
   "source": [
    "filename = 'Evaluation audio/hasil_gergaji/25 meter/gergaji (9).wav'\n",
    "print_prediction(filename)"
   ],
   "metadata": {
    "collapsed": false,
    "pycharm": {
     "name": "#%%\n"
    }
   }
  },
  {
   "cell_type": "code",
   "execution_count": 177,
   "outputs": [
    {
     "name": "stdout",
     "output_type": "stream",
     "text": [
      "The predicted class is: angin \n",
      "\n",
      "angin \t\t :  0.87054777145385742187500000000000\n",
      "gergaji \t\t :  0.00122652098070830106735229492188\n",
      "orang_berbicara \t\t :  0.12644805014133453369140625000000\n",
      "suara_alam \t\t :  0.00176921708043664693832397460938\n",
      "suara_tembakan \t\t :  0.00000845451631903415545821189880\n"
     ]
    }
   ],
   "source": [
    "filename = 'Evaluation audio/hasil_gergaji/25 meter/gergaji (10).wav'\n",
    "print_prediction(filename)"
   ],
   "metadata": {
    "collapsed": false,
    "pycharm": {
     "name": "#%%\n"
    }
   }
  },
  {
   "cell_type": "code",
   "execution_count": 1,
   "outputs": [
    {
     "name": "stdout",
     "output_type": "stream",
     "text": [
      "absl-py==1.0.0\n",
      "argon2-cffi==21.3.0\n",
      "argon2-cffi-bindings==21.2.0\n",
      "astunparse==1.6.3\n",
      "attrs==21.4.0\n",
      "audioread==2.1.9\n",
      "azure-common==1.1.27\n",
      "azure-core==1.21.1\n",
      "azure-storage-blob==2.1.0\n",
      "azure-storage-common==2.1.0\n",
      "backcall==0.2.0\n",
      "bleach==4.1.0\n",
      "cachetools==4.2.4\n",
      "certifi==2021.10.8\n",
      "cffi==1.15.0\n",
      "charset-normalizer==2.0.10\n",
      "colorama==0.4.4\n",
      "cryptography==36.0.1\n",
      "cycler==0.11.0\n",
      "debugpy==1.5.1\n",
      "decorator==5.1.1\n",
      "defusedxml==0.7.1\n",
      "entrypoints==0.3\n",
      "fonttools==4.28.5\n",
      "gast==0.3.3\n",
      "google-auth==2.3.3\n",
      "google-auth-oauthlib==0.4.6\n",
      "google-pasta==0.2.0\n",
      "grpcio==1.43.0\n",
      "h5py==2.10.0\n",
      "idna==3.3\n",
      "importlib-metadata==4.10.0\n",
      "importlib-resources==5.4.0\n",
      "ipykernel==6.6.1\n",
      "ipython==7.31.0\n",
      "ipython-genutils==0.2.0\n",
      "ipywidgets==7.6.5\n",
      "isodate==0.6.1\n",
      "jedi==0.18.1\n",
      "Jinja2==3.0.3\n",
      "joblib==1.1.0\n",
      "jsonschema==4.3.3\n",
      "jupyter==1.0.0\n",
      "jupyter-client==7.1.0\n",
      "jupyter-console==6.4.0\n",
      "jupyter-core==4.9.1\n",
      "jupyterlab-pygments==0.1.2\n",
      "jupyterlab-widgets==1.0.2\n",
      "Keras==2.3.1\n",
      "Keras-Applications==1.0.8\n",
      "Keras-Preprocessing==1.1.2\n",
      "kiwisolver==1.3.2\n",
      "librosa==0.7.2\n",
      "llvmlite==0.31.0\n",
      "Markdown==3.3.6\n",
      "MarkupSafe==2.0.1\n",
      "matplotlib==3.5.1\n",
      "matplotlib-inline==0.1.3\n",
      "mistune==0.8.4\n",
      "msrest==0.6.21\n",
      "nbclient==0.5.9\n",
      "nbconvert==6.4.0\n",
      "nbformat==5.1.3\n",
      "nest-asyncio==1.5.4\n",
      "notebook==6.4.6\n",
      "numba==0.48.0\n",
      "numpy==1.17.5\n",
      "oauthlib==3.1.1\n",
      "opt-einsum==3.3.0\n",
      "packaging==21.3\n",
      "pandas==1.3.5\n",
      "pandocfilters==1.5.0\n",
      "parso==0.8.3\n",
      "pickleshare==0.7.5\n",
      "Pillow==9.0.0\n",
      "prometheus-client==0.12.0\n",
      "prompt-toolkit==3.0.24\n",
      "protobuf==3.19.1\n",
      "pyasn1==0.4.8\n",
      "pyasn1-modules==0.2.8\n",
      "pycparser==2.21\n",
      "Pygments==2.11.2\n",
      "pyparsing==3.0.6\n",
      "pyrsistent==0.18.0\n",
      "python-dateutil==2.8.2\n",
      "pytz==2021.3\n",
      "pywin32==303\n",
      "pywinpty==1.1.6\n",
      "PyYAML==6.0\n",
      "pyzmq==22.3.0\n",
      "qtconsole==5.2.2\n",
      "QtPy==2.0.0\n",
      "requests==2.27.1\n",
      "requests-oauthlib==1.3.0\n",
      "resampy==0.2.2\n",
      "rsa==4.8\n",
      "scikit-learn==0.24.0\n",
      "scipy==1.7.3\n",
      "Note: you may need to restart the kernel to use updated packages.\n",
      "seaborn==0.11.2\n",
      "Send2Trash==1.8.0\n",
      "six==1.16.0\n",
      "sounddevice==0.4.4\n",
      "SoundFile==0.10.3.post1\n",
      "tensorboard==2.7.0\n",
      "tensorboard-data-server==0.6.1\n",
      "tensorboard-plugin-wit==1.8.1\n",
      "tensorflow==2.3.1\n",
      "tensorflow-estimator==2.3.0\n",
      "termcolor==1.1.0\n",
      "terminado==0.12.1\n",
      "testpath==0.5.0\n",
      "threadpoolctl==3.0.0\n",
      "tornado==6.1\n",
      "traitlets==5.1.1\n",
      "urllib3==1.26.8\n",
      "wcwidth==0.2.5\n",
      "webencodings==0.5.1\n",
      "Werkzeug==2.0.2\n",
      "widgetsnbextension==3.5.2\n",
      "wrapt==1.13.3\n",
      "zipp==3.7.0\n"
     ]
    }
   ],
   "source": [
    "pip freeze"
   ],
   "metadata": {
    "collapsed": false,
    "pycharm": {
     "name": "#%%\n"
    }
   }
  },
  {
   "cell_type": "code",
   "execution_count": null,
   "outputs": [],
   "source": [],
   "metadata": {
    "collapsed": false,
    "pycharm": {
     "name": "#%%\n"
    }
   }
  }
 ],
 "metadata": {
  "kernelspec": {
   "display_name": "Python 3",
   "language": "python",
   "name": "python3"
  },
  "language_info": {
   "codemirror_mode": {
    "name": "ipython",
    "version": 2
   },
   "file_extension": ".py",
   "mimetype": "text/x-python",
   "name": "python",
   "nbconvert_exporter": "python",
   "pygments_lexer": "ipython2",
   "version": "2.7.6"
  }
 },
 "nbformat": 4,
 "nbformat_minor": 0
}